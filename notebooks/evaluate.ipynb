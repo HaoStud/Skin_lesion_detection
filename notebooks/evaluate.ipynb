{
 "cells": [
  {
   "cell_type": "markdown",
   "id": "b2d9f56c-6240-4609-9605-cfb2f0025e0d",
   "metadata": {},
   "source": [
    "# Evaluate"
   ]
  },
  {
   "cell_type": "code",
   "execution_count": 32,
   "id": "90b2eab4-069c-44df-95fd-187dce76f22c",
   "metadata": {},
   "outputs": [],
   "source": [
    "import os\n",
    "import torch\n",
    "import numpy as np\n",
    "\n",
    "# move to root dir\n",
    "if os.getcwd().split('/')[-1] == 'notebooks':\n",
    "    os.chdir('..')\n",
    "\n",
    "from torch.utils.data import DataLoader\n",
    "from data.dataloader import HAM10000\n",
    "from model.models import ImgClassificationModel\n",
    "\n",
    "from glob import glob\n",
    "from gui.ensemble import ens_predict as ens_predict\n",
    "from tqdm import tqdm"
   ]
  },
  {
   "cell_type": "code",
   "execution_count": 33,
   "id": "25b9a8ce-dd04-4621-ac22-308528c7862c",
   "metadata": {},
   "outputs": [],
   "source": [
    "# test dataset\n",
    "test_ds = HAM10000('input/aug/test')\n",
    "test_dl = DataLoader(test_ds, batch_size=16, num_workers=12)"
   ]
  },
  {
   "cell_type": "code",
   "execution_count": 34,
   "id": "ca1b0264-6223-41e0-87b5-b22669ee95f0",
   "metadata": {},
   "outputs": [],
   "source": [
    "# output files\n",
    "output_mcd_file = 'output/predictions/monte_carlo.npy'"
   ]
  },
  {
   "cell_type": "markdown",
   "id": "40f5dbf7-4193-48ba-bdbe-2e5df48b6a97",
   "metadata": {
    "tags": []
   },
   "source": [
    "## Monte-Carlo"
   ]
  },
  {
   "cell_type": "code",
   "execution_count": 35,
   "id": "0092bcf7-7306-4ac0-b806-4f28ed7fd1f1",
   "metadata": {},
   "outputs": [],
   "source": [
    "from model.monte_carlo import predict_mcd_class"
   ]
  },
  {
   "cell_type": "code",
   "execution_count": 36,
   "id": "60b28d44-5695-4b73-a6c7-3f38203ff8bb",
   "metadata": {},
   "outputs": [],
   "source": [
    "checkpoint      = 'output/checkpoints/resnet-drop_epoch=13_val_acc=0.80.ckpt'\n",
    "device          = torch.device(\"cuda:0\" if torch.cuda.is_available() else \"cpu\")\n",
    "\n",
    "model = ImgClassificationModel.load_from_checkpoint(checkpoint)\n",
    "model = model.to(device)"
   ]
  },
  {
   "cell_type": "code",
   "execution_count": 37,
   "id": "5d0d86e4-3ac1-4bc4-b8c2-d688934f7ef8",
   "metadata": {},
   "outputs": [
    {
     "name": "stderr",
     "output_type": "stream",
     "text": [
      "100%|██████████████████████████████████████████████████████████████████████████████████████████████████████████████████████████████████████████████████████████████████████████████████████████| 47/47 [04:45<00:00,  6.07s/it]\n"
     ]
    }
   ],
   "source": [
    "# do predictions\n",
    "pred = []; true = []\n",
    "for Xs, ys in tqdm(test_dl):\n",
    "    Xs = Xs.to(device)\n",
    "    pred += list(predict_mcd_class(model, Xs, num_samples=100))\n",
    "    true += list(ys.numpy())\n",
    "\n",
    "# create np array of shape (n, 2) - each row being [pred:true]\n",
    "output_mcd = np.array([pred, true])\n",
    "output_mcd = output_mcd.reshape(-1, 2)\n",
    "\n",
    "# save to file\n",
    "output_mcd_file = 'output/predictions/monte_carlo.npy'\n",
    "np.save(output_mcd_file, output_mcd)"
   ]
  },
  {
   "cell_type": "code",
   "execution_count": null,
   "id": "a85b341e",
   "metadata": {},
   "outputs": [],
   "source": []
  },
  {
   "cell_type": "markdown",
   "id": "03fb3c23",
   "metadata": {},
   "source": [
    "## Ensemble"
   ]
  },
  {
   "cell_type": "code",
   "execution_count": null,
   "id": "e87ff341",
   "metadata": {},
   "outputs": [],
   "source": []
  },
  {
   "cell_type": "code",
   "execution_count": 38,
   "id": "c43b8e93",
   "metadata": {},
   "outputs": [],
   "source": [
    "model_names    = ['resnet-drop', 'resnet', 'alexnet', 'vgg', 'densenet', ] # 'squeezenet', ]\n",
    "checkpoint_dir = 'output/checkpoints'\n",
    "checkpoints    = {m: glob(f'{checkpoint_dir}/{m}_*')[0] for m in model_names}\n",
    "\n",
    "# load models\n",
    "device = torch.device('cuda:0')\n",
    "models = {m: ImgClassificationModel.load_from_checkpoint(checkpoints[m]).to(device)\n",
    "          for m in model_names}"
   ]
  },
  {
   "cell_type": "code",
   "execution_count": 39,
   "id": "80ccd09a",
   "metadata": {},
   "outputs": [
    {
     "name": "stderr",
     "output_type": "stream",
     "text": [
      "100%|██████████████████████████████████████████████████████████████████████████████████████████████████████████████████████████████████████████████████████████████████████████████████████████| 47/47 [00:18<00:00,  2.48it/s]\n"
     ]
    }
   ],
   "source": [
    "pred = []; true = []\n",
    "\n",
    "\n",
    "for Xs, ys in tqdm(test_dl):\n",
    "    Xs = Xs.to(device)\n",
    "    p_list = []\n",
    "    for X in Xs:\n",
    "\n",
    "        p = ens_predict(X.view([1,3,224,224]))\n",
    "        p_list.append(p)\n",
    "\n",
    "    pred += list(p_list)\n",
    "    true += list(ys.numpy())\n",
    "\n",
    "\n",
    "output_ens = np.array([pred, true])\n",
    "output_ens = output_ens.reshape(-1, 2)\n",
    "\n",
    "# save to file\n",
    "output_ens_file = 'output/predictions/ensemble.npy'\n",
    "np.save(output_ens_file, output_ens)"
   ]
  },
  {
   "cell_type": "code",
   "execution_count": null,
   "id": "728bd1ff",
   "metadata": {},
   "outputs": [],
   "source": []
  },
  {
   "cell_type": "code",
   "execution_count": null,
   "id": "c0761989",
   "metadata": {},
   "outputs": [],
   "source": []
  },
  {
   "cell_type": "markdown",
   "id": "458124fa-fbca-4896-88ef-5935ad4a0fb1",
   "metadata": {
    "tags": []
   },
   "source": [
    "## Calculate Metrics"
   ]
  },
  {
   "cell_type": "code",
   "execution_count": 45,
   "id": "6aee5b88-7b22-4466-8e44-892ac8f61c47",
   "metadata": {},
   "outputs": [],
   "source": [
    "from sklearn.metrics import f1_score, accuracy_score"
   ]
  },
  {
   "cell_type": "code",
   "execution_count": 46,
   "id": "00c3e35e-81d8-4980-8c88-547d2cbd21bb",
   "metadata": {},
   "outputs": [],
   "source": [
    "output_mcd = np.load(output_mcd_file)"
   ]
  },
  {
   "cell_type": "code",
   "execution_count": 47,
   "id": "e9775b33-12c5-4b4c-9120-dceb7ba272db",
   "metadata": {},
   "outputs": [
    {
     "name": "stdout",
     "output_type": "stream",
     "text": [
      "Monte Carlo - Acc: 0.87, F1: 0.75\n"
     ]
    }
   ],
   "source": [
    "acc = accuracy_score(output_mcd[:,1], output_mcd[:,0])\n",
    "f1  = f1_score(output_mcd[:,1], output_mcd[:,0], average='macro')\n",
    "\n",
    "print(f'Monte Carlo - Acc: {acc:0.2}, F1: {f1:0.2}')"
   ]
  },
  {
   "cell_type": "code",
   "execution_count": 48,
   "id": "4aee9637",
   "metadata": {},
   "outputs": [],
   "source": [
    "output_ens = np.load(output_ens_file)"
   ]
  },
  {
   "cell_type": "code",
   "execution_count": 49,
   "id": "23a33c84-1b42-4c1a-8ebd-d4c74f24cf8b",
   "metadata": {},
   "outputs": [
    {
     "name": "stdout",
     "output_type": "stream",
     "text": [
      "Ensemble Model - Acc: 0.89, F1: 0.77\n"
     ]
    }
   ],
   "source": [
    "output_mcd = np.load(output_ens_file)\n",
    "acc = accuracy_score(output_ens[:,1], output_ens[:,0])\n",
    "f1  = f1_score(output_ens[:,1], output_ens[:,0], average='macro')\n",
    "\n",
    "print(f'Ensemble Model - Acc: {acc:0.2}, F1: {f1:0.2}')"
   ]
  },
  {
   "cell_type": "code",
   "execution_count": null,
   "id": "38665012",
   "metadata": {},
   "outputs": [],
   "source": []
  }
 ],
 "metadata": {
  "kernelspec": {
   "display_name": "Python 3 (ipykernel)",
   "language": "python",
   "name": "python3"
  },
  "language_info": {
   "codemirror_mode": {
    "name": "ipython",
    "version": 3
   },
   "file_extension": ".py",
   "mimetype": "text/x-python",
   "name": "python",
   "nbconvert_exporter": "python",
   "pygments_lexer": "ipython3",
   "version": "3.9.7"
  }
 },
 "nbformat": 4,
 "nbformat_minor": 5
}
